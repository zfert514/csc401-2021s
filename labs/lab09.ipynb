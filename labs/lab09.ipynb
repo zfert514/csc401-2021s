{
  "nbformat": 4,
  "nbformat_minor": 0,
  "metadata": {
    "colab": {
      "name": "lab09.ipynb",
      "provenance": [],
      "authorship_tag": "ABX9TyOV3xsan0HjKXu3OjzkABnd",
      "include_colab_link": true
    },
    "kernelspec": {
      "name": "python3",
      "display_name": "Python 3"
    }
  },
  "cells": [
    {
      "cell_type": "markdown",
      "metadata": {
        "id": "view-in-github",
        "colab_type": "text"
      },
      "source": [
        "<a href=\"https://colab.research.google.com/github/scottspurlock/csc401-2021s/blob/main/labs/lab09.ipynb\" target=\"_parent\"><img src=\"https://colab.research.google.com/assets/colab-badge.svg\" alt=\"Open In Colab\"/></a>"
      ]
    },
    {
      "cell_type": "markdown",
      "metadata": {
        "id": "KVSUPE4Sq6Uc"
      },
      "source": [
        "# Lab 9\n",
        "## Scott Spurlock\n",
        "### 3/10/2021\n"
      ]
    },
    {
      "cell_type": "code",
      "metadata": {
        "id": "l6wwHiuPrVOE"
      },
      "source": [
        "# Imports\n",
        "import pandas as pd\n",
        "from sklearn.datasets import make_regression\n",
        "from sklearn.linear_model import LinearRegression\n",
        "from sklearn.preprocessing import PolynomialFeatures\n",
        "import numpy as np\n",
        "import matplotlib.pyplot as plt\n",
        "import seaborn as sns\n",
        "from random import random\n",
        "from random import randint"
      ],
      "execution_count": null,
      "outputs": []
    },
    {
      "cell_type": "code",
      "metadata": {
        "colab": {
          "base_uri": "https://localhost:8080/",
          "height": 419
        },
        "id": "X0o4ZpbGrmFT",
        "outputId": "882dcaf9-01a8-4b1f-c31f-511ab7e276c7"
      },
      "source": [
        "rng = np.random.RandomState(0)\n",
        "x = 20 * np.random.rand(500, 1)\n",
        "y = 0.003*x**3 + 0.01*x**2 + 0.9*x*np.sin(x) + 1.1 * np.random.randn(500, 1)\n",
        "\n",
        "for i in range(30):\n",
        "  idx = int(random()*y.shape[0])\n",
        "  if random() > 0.5:\n",
        "    y[idx] += 20 * random()\n",
        "  else:\n",
        "    y[idx] -= 5 * random()\n",
        "\n",
        "is_train = np.ones_like(y)\n",
        "df_train = pd.DataFrame(np.hstack((x, y, is_train)), columns=['x', 'y', 'is_train'])\n",
        "df_train = df_train.sort_values(by='x').reset_index(drop=True)\n",
        "\n",
        "x = 20 * np.random.rand(100, 1)\n",
        "y = 0.003*x**3 + 0.01*x**2 + 0.9*x*np.sin(x)\n",
        "is_train = np.zeros_like(y)\n",
        "df_test = pd.DataFrame(np.hstack((x, y, is_train)), columns=['x', 'y', 'is_train'])\n",
        "df_test = df_test.sort_values(by='x').reset_index(drop=True)\n",
        "\n",
        "df = pd.concat([df_train, df_test], axis=0).reset_index(drop=True)\n",
        "\n",
        "df.to_csv('regression_data.csv', index=False)\n",
        "df\n"
      ],
      "execution_count": null,
      "outputs": [
        {
          "output_type": "execute_result",
          "data": {
            "text/html": [
              "<div>\n",
              "<style scoped>\n",
              "    .dataframe tbody tr th:only-of-type {\n",
              "        vertical-align: middle;\n",
              "    }\n",
              "\n",
              "    .dataframe tbody tr th {\n",
              "        vertical-align: top;\n",
              "    }\n",
              "\n",
              "    .dataframe thead th {\n",
              "        text-align: right;\n",
              "    }\n",
              "</style>\n",
              "<table border=\"1\" class=\"dataframe\">\n",
              "  <thead>\n",
              "    <tr style=\"text-align: right;\">\n",
              "      <th></th>\n",
              "      <th>x</th>\n",
              "      <th>y</th>\n",
              "      <th>is_train</th>\n",
              "    </tr>\n",
              "  </thead>\n",
              "  <tbody>\n",
              "    <tr>\n",
              "      <th>0</th>\n",
              "      <td>0.065818</td>\n",
              "      <td>1.617208</td>\n",
              "      <td>1.0</td>\n",
              "    </tr>\n",
              "    <tr>\n",
              "      <th>1</th>\n",
              "      <td>0.070090</td>\n",
              "      <td>0.746412</td>\n",
              "      <td>1.0</td>\n",
              "    </tr>\n",
              "    <tr>\n",
              "      <th>2</th>\n",
              "      <td>0.161115</td>\n",
              "      <td>1.703172</td>\n",
              "      <td>1.0</td>\n",
              "    </tr>\n",
              "    <tr>\n",
              "      <th>3</th>\n",
              "      <td>0.176634</td>\n",
              "      <td>0.784650</td>\n",
              "      <td>1.0</td>\n",
              "    </tr>\n",
              "    <tr>\n",
              "      <th>4</th>\n",
              "      <td>0.252513</td>\n",
              "      <td>-0.309209</td>\n",
              "      <td>1.0</td>\n",
              "    </tr>\n",
              "    <tr>\n",
              "      <th>...</th>\n",
              "      <td>...</td>\n",
              "      <td>...</td>\n",
              "      <td>...</td>\n",
              "    </tr>\n",
              "    <tr>\n",
              "      <th>595</th>\n",
              "      <td>18.752661</td>\n",
              "      <td>21.667648</td>\n",
              "      <td>0.0</td>\n",
              "    </tr>\n",
              "    <tr>\n",
              "      <th>596</th>\n",
              "      <td>19.092991</td>\n",
              "      <td>28.667949</td>\n",
              "      <td>0.0</td>\n",
              "    </tr>\n",
              "    <tr>\n",
              "      <th>597</th>\n",
              "      <td>19.484743</td>\n",
              "      <td>36.393775</td>\n",
              "      <td>0.0</td>\n",
              "    </tr>\n",
              "    <tr>\n",
              "      <th>598</th>\n",
              "      <td>19.500304</td>\n",
              "      <td>36.679917</td>\n",
              "      <td>0.0</td>\n",
              "    </tr>\n",
              "    <tr>\n",
              "      <th>599</th>\n",
              "      <td>19.625587</td>\n",
              "      <td>38.900940</td>\n",
              "      <td>0.0</td>\n",
              "    </tr>\n",
              "  </tbody>\n",
              "</table>\n",
              "<p>600 rows × 3 columns</p>\n",
              "</div>"
            ],
            "text/plain": [
              "             x          y  is_train\n",
              "0     0.065818   1.617208       1.0\n",
              "1     0.070090   0.746412       1.0\n",
              "2     0.161115   1.703172       1.0\n",
              "3     0.176634   0.784650       1.0\n",
              "4     0.252513  -0.309209       1.0\n",
              "..         ...        ...       ...\n",
              "595  18.752661  21.667648       0.0\n",
              "596  19.092991  28.667949       0.0\n",
              "597  19.484743  36.393775       0.0\n",
              "598  19.500304  36.679917       0.0\n",
              "599  19.625587  38.900940       0.0\n",
              "\n",
              "[600 rows x 3 columns]"
            ]
          },
          "metadata": {
            "tags": []
          },
          "execution_count": 2
        }
      ]
    },
    {
      "cell_type": "code",
      "metadata": {
        "colab": {
          "base_uri": "https://localhost:8080/",
          "height": 419
        },
        "id": "bZowzvdqQBP9",
        "outputId": "19a63e4d-0bcf-4189-d956-990088acf15a"
      },
      "source": [
        "df = pd.read_csv('https://drive.google.com/uc?export=download&id=1XHF2E7uXPqXSmGi2X1E9_o9VmIh89bfV')\n",
        "df"
      ],
      "execution_count": null,
      "outputs": [
        {
          "output_type": "execute_result",
          "data": {
            "text/html": [
              "<div>\n",
              "<style scoped>\n",
              "    .dataframe tbody tr th:only-of-type {\n",
              "        vertical-align: middle;\n",
              "    }\n",
              "\n",
              "    .dataframe tbody tr th {\n",
              "        vertical-align: top;\n",
              "    }\n",
              "\n",
              "    .dataframe thead th {\n",
              "        text-align: right;\n",
              "    }\n",
              "</style>\n",
              "<table border=\"1\" class=\"dataframe\">\n",
              "  <thead>\n",
              "    <tr style=\"text-align: right;\">\n",
              "      <th></th>\n",
              "      <th>x</th>\n",
              "      <th>y</th>\n",
              "      <th>is_train</th>\n",
              "    </tr>\n",
              "  </thead>\n",
              "  <tbody>\n",
              "    <tr>\n",
              "      <th>0</th>\n",
              "      <td>0.000799</td>\n",
              "      <td>1.699337</td>\n",
              "      <td>1.0</td>\n",
              "    </tr>\n",
              "    <tr>\n",
              "      <th>1</th>\n",
              "      <td>0.010214</td>\n",
              "      <td>-0.436091</td>\n",
              "      <td>1.0</td>\n",
              "    </tr>\n",
              "    <tr>\n",
              "      <th>2</th>\n",
              "      <td>0.071439</td>\n",
              "      <td>-1.873174</td>\n",
              "      <td>1.0</td>\n",
              "    </tr>\n",
              "    <tr>\n",
              "      <th>3</th>\n",
              "      <td>0.076680</td>\n",
              "      <td>15.854541</td>\n",
              "      <td>1.0</td>\n",
              "    </tr>\n",
              "    <tr>\n",
              "      <th>4</th>\n",
              "      <td>0.115109</td>\n",
              "      <td>-0.831285</td>\n",
              "      <td>1.0</td>\n",
              "    </tr>\n",
              "    <tr>\n",
              "      <th>...</th>\n",
              "      <td>...</td>\n",
              "      <td>...</td>\n",
              "      <td>...</td>\n",
              "    </tr>\n",
              "    <tr>\n",
              "      <th>595</th>\n",
              "      <td>19.120931</td>\n",
              "      <td>29.241459</td>\n",
              "      <td>0.0</td>\n",
              "    </tr>\n",
              "    <tr>\n",
              "      <th>596</th>\n",
              "      <td>19.188589</td>\n",
              "      <td>30.621332</td>\n",
              "      <td>0.0</td>\n",
              "    </tr>\n",
              "    <tr>\n",
              "      <th>597</th>\n",
              "      <td>19.705345</td>\n",
              "      <td>40.229150</td>\n",
              "      <td>0.0</td>\n",
              "    </tr>\n",
              "    <tr>\n",
              "      <th>598</th>\n",
              "      <td>19.787308</td>\n",
              "      <td>41.515614</td>\n",
              "      <td>0.0</td>\n",
              "    </tr>\n",
              "    <tr>\n",
              "      <th>599</th>\n",
              "      <td>19.964121</td>\n",
              "      <td>43.986691</td>\n",
              "      <td>0.0</td>\n",
              "    </tr>\n",
              "  </tbody>\n",
              "</table>\n",
              "<p>600 rows × 3 columns</p>\n",
              "</div>"
            ],
            "text/plain": [
              "             x          y  is_train\n",
              "0     0.000799   1.699337       1.0\n",
              "1     0.010214  -0.436091       1.0\n",
              "2     0.071439  -1.873174       1.0\n",
              "3     0.076680  15.854541       1.0\n",
              "4     0.115109  -0.831285       1.0\n",
              "..         ...        ...       ...\n",
              "595  19.120931  29.241459       0.0\n",
              "596  19.188589  30.621332       0.0\n",
              "597  19.705345  40.229150       0.0\n",
              "598  19.787308  41.515614       0.0\n",
              "599  19.964121  43.986691       0.0\n",
              "\n",
              "[600 rows x 3 columns]"
            ]
          },
          "metadata": {
            "tags": []
          },
          "execution_count": 3
        }
      ]
    },
    {
      "cell_type": "code",
      "metadata": {
        "id": "RAU-EIFBXZfG"
      },
      "source": [
        "# Separate out train and test data\n",
        "xtrain = df['x'][df['is_train'] == 1].values.reshape((-1, 1))\n",
        "ytrain = df['y'][df['is_train'] == 1].values.reshape((-1, 1))\n",
        "xtest = df['x'][df['is_train'] == 0].values.reshape((-1, 1))\n",
        "ytest = df['y'][df['is_train'] == 0].values.reshape((-1, 1))\n"
      ],
      "execution_count": null,
      "outputs": []
    },
    {
      "cell_type": "code",
      "metadata": {
        "colab": {
          "base_uri": "https://localhost:8080/"
        },
        "id": "bCNL7SmFX2Bm",
        "outputId": "04a58c4d-41f0-49d6-bcd3-7f0a1ccaffe8"
      },
      "source": [
        "ytrain.shape"
      ],
      "execution_count": null,
      "outputs": [
        {
          "output_type": "execute_result",
          "data": {
            "text/plain": [
              "(500, 1)"
            ]
          },
          "metadata": {
            "tags": []
          },
          "execution_count": 5
        }
      ]
    },
    {
      "cell_type": "code",
      "metadata": {
        "colab": {
          "base_uri": "https://localhost:8080/",
          "height": 265
        },
        "id": "B_8vderJQS5x",
        "outputId": "76304947-5d40-4460-ecb6-00ce0ba2bae9"
      },
      "source": [
        "# plot regression training data\n",
        "plt.scatter(xtrain, ytrain, alpha=0.2);\n"
      ],
      "execution_count": null,
      "outputs": [
        {
          "output_type": "display_data",
          "data": {
            "image/png": "[encoded data removed]",
            "text/plain": [
              "<Figure size 432x288 with 1 Axes>"
            ]
          },
          "metadata": {
            "tags": [],
            "needs_background": "light"
          }
        }
      ]
    },
    {
      "cell_type": "code",
      "metadata": {
        "colab": {
          "base_uri": "https://localhost:8080/",
          "height": 299
        },
        "id": "zhyC_3N7u0Z-",
        "outputId": "ed2e069b-8645-48e2-db46-4b6c79c0b990"
      },
      "source": [
        "model = LinearRegression()\n",
        "\n",
        "model.fit(xtrain, ytrain)\n",
        "\n",
        "xfit = np.arange(xtrain.min(), xtrain.max()+0.1, 0.1).reshape((-1, 1))\n",
        "yfit = model.predict(xfit)\n",
        "\n",
        "plt.scatter(xtrain, ytrain, c='blue', alpha=0.1)\n",
        "plt.plot(xfit, yfit, 'r')\n",
        "\n",
        "print(\"Model slope:    \", model.coef_[0])\n",
        "print(\"Model intercept:\", model.intercept_)\n"
      ],
      "execution_count": null,
      "outputs": [
        {
          "output_type": "stream",
          "text": [
            "Model slope:     [1.15783494]\n",
            "Model intercept: [-4.35375211]\n"
          ],
          "name": "stdout"
        },
        {
          "output_type": "display_data",
          "data": {
            "image/png": "[encoded data removed]",
            "text/plain": [
              "<Figure size 432x288 with 1 Axes>"
            ]
          },
          "metadata": {
            "tags": [],
            "needs_background": "light"
          }
        }
      ]
    },
    {
      "cell_type": "code",
      "metadata": {
        "colab": {
          "base_uri": "https://localhost:8080/"
        },
        "id": "WdxdOp3zzohs",
        "outputId": "5b63ef44-9d48-49c7-eae0-e52201410d09"
      },
      "source": [
        "from sklearn.pipeline import make_pipeline\n",
        "from sklearn.metrics import mean_absolute_error\n",
        "from sklearn.metrics import mean_squared_error\n",
        "\n",
        "\n",
        "\n",
        "degree = np.arange(1, 21)\n",
        "mae_vals = []\n",
        "\n",
        "for i in range(len(degree)):\n",
        "\n",
        "  poly_model = make_pipeline(PolynomialFeatures(degree[i]),\n",
        "                            LinearRegression())\n",
        "\n",
        "  poly_model.fit(xtrain, ytrain)\n",
        "  ypred = poly_model.predict(xtest)\n",
        "\n",
        "  mae = mean_absolute_error(ytest, ypred)\n",
        "  mae_vals.append(mae)\n",
        "  print('Degree: {:02d}, MAE: {:.4f}'.format(degree[i], mae))\n",
        "\n"
      ],
      "execution_count": null,
      "outputs": [
        {
          "output_type": "stream",
          "text": [
            "Degree: 01, MAE: 6.2029\n",
            "Degree: 02, MAE: 5.7396\n",
            "Degree: 03, MAE: 5.7474\n",
            "Degree: 04, MAE: 5.5844\n",
            "Degree: 05, MAE: 5.0749\n",
            "Degree: 06, MAE: 4.5953\n",
            "Degree: 07, MAE: 4.4224\n",
            "Degree: 08, MAE: 4.0010\n",
            "Degree: 09, MAE: 1.8886\n",
            "Degree: 10, MAE: 1.8722\n",
            "Degree: 11, MAE: 0.5027\n",
            "Degree: 12, MAE: 0.6474\n",
            "Degree: 13, MAE: 0.9709\n",
            "Degree: 14, MAE: 0.4930\n",
            "Degree: 15, MAE: 1.6709\n",
            "Degree: 16, MAE: 1.2162\n",
            "Degree: 17, MAE: 1.3363\n",
            "Degree: 18, MAE: 1.7428\n",
            "Degree: 19, MAE: 2.1488\n",
            "Degree: 20, MAE: 2.3771\n"
          ],
          "name": "stdout"
        }
      ]
    },
    {
      "cell_type": "code",
      "metadata": {
        "colab": {
          "base_uri": "https://localhost:8080/",
          "height": 295
        },
        "id": "xAMSCqmq9lti",
        "outputId": "0a5a596a-81e9-4f3a-b191-57a7cbce0e67"
      },
      "source": [
        "plt.plot(degree, mae_vals, ':b.')\n",
        "plt.title('MAE vs polynomial degree')\n",
        "plt.xlabel('Degree')\n",
        "plt.ylabel('MAE');"
      ],
      "execution_count": null,
      "outputs": [
        {
          "output_type": "display_data",
          "data": {
            "image/png": "[encoded data removed]",
            "text/plain": [
              "<Figure size 432x288 with 1 Axes>"
            ]
          },
          "metadata": {
            "tags": [],
            "needs_background": "light"
          }
        }
      ]
    },
    {
      "cell_type": "code",
      "metadata": {
        "colab": {
          "base_uri": "https://localhost:8080/",
          "height": 265
        },
        "id": "0LX2TV73aaIt",
        "outputId": "7f9c646b-c211-44dd-c988-a9b6df75328f"
      },
      "source": [
        "poly_model = make_pipeline(PolynomialFeatures(14),\n",
        "                          LinearRegression())\n",
        "\n",
        "poly_model.fit(xtrain, ytrain)\n",
        "ypred = poly_model.predict(xtrain)\n",
        "\n",
        "plt.scatter(xtrain, ytrain, c='blue', alpha=0.1)\n",
        "plt.plot(xtrain, ypred, 'r');\n"
      ],
      "execution_count": null,
      "outputs": [
        {
          "output_type": "display_data",
          "data": {
            "image/png": "[encoded data removed]",
            "text/plain": [
              "<Figure size 432x288 with 1 Axes>"
            ]
          },
          "metadata": {
            "tags": [],
            "needs_background": "light"
          }
        }
      ]
    },
    {
      "cell_type": "code",
      "metadata": {
        "id": "1JmYbTn6a6c-"
      },
      "source": [
        ""
      ],
      "execution_count": null,
      "outputs": []
    }
  ]
}