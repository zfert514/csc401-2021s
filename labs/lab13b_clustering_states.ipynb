{
  "nbformat": 4,
  "nbformat_minor": 0,
  "metadata": {
    "kernelspec": {
      "display_name": "Python 3",
      "language": "python",
      "name": "python3"
    },
    "language_info": {
      "codemirror_mode": {
        "name": "ipython",
        "version": 3
      },
      "file_extension": ".py",
      "mimetype": "text/x-python",
      "name": "python",
      "nbconvert_exporter": "python",
      "pygments_lexer": "ipython3",
      "version": "3.6.7"
    },
    "colab": {
      "name": "lab13b_clustering_states.ipynb",
      "provenance": [],
      "include_colab_link": true
    }
  },
  "cells": [
    {
      "cell_type": "markdown",
      "metadata": {
        "id": "view-in-github",
        "colab_type": "text"
      },
      "source": [
        "<a href=\"https://colab.research.google.com/github/scottspurlock/csc401-2021s/blob/main/labs/lab13b_clustering_states.ipynb\" target=\"_parent\"><img src=\"https://colab.research.google.com/assets/colab-badge.svg\" alt=\"Open In Colab\"/></a>"
      ]
    },
    {
      "cell_type": "markdown",
      "metadata": {
        "id": "5syuylNp2sX4"
      },
      "source": [
        "# Lab 13 Part B\n",
        "## Clustering\n",
        "### State Weather"
      ]
    },
    {
      "cell_type": "code",
      "metadata": {
        "id": "SoR4vq1c2sX9"
      },
      "source": [
        "from sklearn.cluster import KMeans\n",
        "import matplotlib.pyplot as plt\n",
        "import numpy as np\n",
        "import pandas as pd"
      ],
      "execution_count": null,
      "outputs": []
    },
    {
      "cell_type": "code",
      "metadata": {
        "id": "0Q1iyB872sX-"
      },
      "source": [
        "df = pd.read_csv('https://drive.google.com/uc?export=download&id=1eb8ptJBgNsbtXVQ2tRSNt_GhP_4xej6b')\n",
        "df.head(10)"
      ],
      "execution_count": null,
      "outputs": []
    },
    {
      "cell_type": "code",
      "metadata": {
        "id": "EdfqtX_C2sX_"
      },
      "source": [
        "print('Running Kmeans on list of', df.shape[0], 'states...')\n",
        "\n",
        "# TO DO -----------\n",
        "\n",
        "# Create a KMeans model with k clusters\n",
        "k = 2\n",
        "print('Fill in a line of code here...')\n",
        "\n",
        "# Fit the model to the data (just temp and snowfall)\n",
        "print('Fill in a line of code here...')\n",
        "\n",
        "# Predict the cluster labels based on the data\n",
        "print('Fill in a line of code here...')\n"
      ],
      "execution_count": null,
      "outputs": []
    },
    {
      "cell_type": "code",
      "metadata": {
        "id": "FMF9tLf-2sYA"
      },
      "source": [
        "# ---------------------------------------------------------------------\n",
        "# Visualization\n",
        "colors =  ['b', 'r', 'g', 'c', 'm', 'y', 'k']\n",
        "plt.figure(figsize=(16, 10))\n",
        "\n",
        "# Plot states one at a time\n",
        "for i, row in df.iterrows():\n",
        "    # which cluster was this state assigned to?\n",
        "    # (if you're getting an error here, make sure to create a variable named\n",
        "    # cluster_labels in the cell above.)\n",
        "    curr_label = cluster_labels[i]\n",
        "\n",
        "    # which color should we use for this cluster?\n",
        "    curr_color = colors[curr_label]\n",
        "\n",
        "    # Plot this state\n",
        "    plt.scatter(row['temp'], row['snowfall'], c=curr_color, s=50)\n",
        "\n",
        "    # Add a text label for this state's name\n",
        "    plt.text(row['temp']+0.5, row['snowfall'], row['state'], size=10)\n",
        "\n",
        "plt.title('State Weather Data, K = ' + str(k))\n",
        "plt.xlabel('Average Winter Temp. (F)')\n",
        "plt.ylabel('Average Snowfall (in)')\n",
        "plt.show()\n"
      ],
      "execution_count": null,
      "outputs": []
    },
    {
      "cell_type": "code",
      "metadata": {
        "id": "34sHplns2sYA"
      },
      "source": [
        ""
      ],
      "execution_count": null,
      "outputs": []
    }
  ]
}